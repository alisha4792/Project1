{
 "cells": [
  {
   "cell_type": "code",
   "execution_count": 1,
   "id": "bb268558-10d4-48c2-ac7c-723ab5638d96",
   "metadata": {},
   "outputs": [],
   "source": [
    "#Import required modules\n",
    "import random"
   ]
  },
  {
   "cell_type": "code",
   "execution_count": 5,
   "id": "c2def576-2183-434a-a361-d64d58307131",
   "metadata": {},
   "outputs": [],
   "source": [
    "#Predefined adjective and noun lists\n",
    "adjectives = [\"Cool\", \"Happy\", \"Fast\", \"Clever\", \"Brave\"]\n",
    "nouns = [\"Tiger\", \"Dragon\", \"Phoenix\", \"Panther\", \"Eagle\"]\n",
    "\n",
    "# Function to generate a random username\n",
    "def generate_username(include_numbers=True, include_special_chars=True):\n",
    "    username = random.choice(adjectives) + random.choice(nouns)\n",
    "    \n",
    "    if include_numbers:\n",
    "        username += str(random.randint(10, 99))  # Add a random two-digit number\n",
    "    \n",
    "    if include_special_chars:\n",
    "        username += random.choice([\"!\", \"@\", \"#\", \"$\"])\n",
    "    \n",
    "    return username\n"
   ]
  },
  {
   "cell_type": "code",
   "execution_count": 7,
   "id": "cc135e1a-edf7-4243-b3c0-e17c56a37646",
   "metadata": {},
   "outputs": [],
   "source": [
    "#Save usernames to a file\n",
    "def save_usernames_to_file(usernames, filename=\"usernames.txt\"):\n",
    "    with open(filename, \"w\") as file:\n",
    "        for username in usernames:\n",
    "            file.write(username + \"\\n\")\n",
    "    print(f\"Usernames saved to {filename}\")"
   ]
  },
  {
   "cell_type": "code",
   "execution_count": 9,
   "id": "a4e432dc-5887-4fda-b4f3-5409d97d468d",
   "metadata": {},
   "outputs": [],
   "source": [
    "#Interactive user input and main logic\n",
    "def main():\n",
    "    print(\"Welcome to the Random Username Generator!\")\n",
    "    include_numbers = input(\"Include numbers in usernames? (yes/no): \").lower() == \"yes\"\n",
    "    include_special_chars = input(\"Include special characters? (yes/no): \").lower() == \"yes\"\n",
    "    num_usernames = int(input(\"How many usernames would you like to generate? \"))\n",
    "    \n",
    "    usernames = [generate_username(include_numbers, include_special_chars) for _ in range(num_usernames)]\n",
    "    \n",
    "    print(\"\\nGenerated Usernames:\")\n",
    "    for username in usernames:\n",
    "        print(username)\n",
    "    \n",
    "    save_option = input(\"\\nDo you want to save these usernames to a file? (yes/no): \").lower()\n",
    "    if save_option == \"yes\":\n",
    "        filename = input(\"Enter the filename (default: usernames.txt): \") or \"usernames.txt\"\n",
    "        save_usernames_to_file(usernames, filename)"
   ]
  },
  {
   "cell_type": "code",
   "execution_count": 11,
   "id": "90a3a5a6-4f10-492e-bf83-4d62e964b0ef",
   "metadata": {},
   "outputs": [
    {
     "name": "stdout",
     "output_type": "stream",
     "text": [
      "Welcome to the Random Username Generator!\n"
     ]
    },
    {
     "name": "stdin",
     "output_type": "stream",
     "text": [
      "Include numbers in usernames? (yes/no):  yes\n",
      "Include special characters? (yes/no):  yes\n",
      "How many usernames would you like to generate?  2\n"
     ]
    },
    {
     "name": "stdout",
     "output_type": "stream",
     "text": [
      "\n",
      "Generated Usernames:\n",
      "HappyTiger63!\n",
      "CleverPanther12@\n"
     ]
    },
    {
     "name": "stdin",
     "output_type": "stream",
     "text": [
      "\n",
      "Do you want to save these usernames to a file? (yes/no):  no\n"
     ]
    }
   ],
   "source": [
    "#Run the program\n",
    "main()"
   ]
  },
  {
   "cell_type": "code",
   "execution_count": null,
   "id": "ca2dcccc-5b41-4d27-9ad0-e55554a328db",
   "metadata": {},
   "outputs": [],
   "source": []
  }
 ],
 "metadata": {
  "kernelspec": {
   "display_name": "Python 3 (ipykernel)",
   "language": "python",
   "name": "python3"
  },
  "language_info": {
   "codemirror_mode": {
    "name": "ipython",
    "version": 3
   },
   "file_extension": ".py",
   "mimetype": "text/x-python",
   "name": "python",
   "nbconvert_exporter": "python",
   "pygments_lexer": "ipython3",
   "version": "3.12.4"
  }
 },
 "nbformat": 4,
 "nbformat_minor": 5
}
